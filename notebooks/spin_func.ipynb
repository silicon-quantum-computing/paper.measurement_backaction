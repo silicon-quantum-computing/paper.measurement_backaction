{
 "cells": [
  {
   "cell_type": "code",
   "execution_count": 43,
   "metadata": {
    "tags": []
   },
   "outputs": [],
   "source": [
    "from qutip import *\n",
    "import numpy as np\n",
    "import math\n",
    "from scipy.linalg import expm\n",
    "from IPython.display import Latex"
   ]
  },
  {
   "cell_type": "markdown",
   "metadata": {},
   "source": [
    "All Hamiltonian outputs are in units of frequency (Hz)"
   ]
  },
  {
   "cell_type": "code",
   "execution_count": 44,
   "metadata": {
    "tags": []
   },
   "outputs": [],
   "source": [
    "def z_hamiltonian(m, n, B):\n",
    "    e = 1.6e-19\n",
    "    h = 6.625e-34\n",
    "\n",
    "    ge = 1.9987213544\n",
    "    gn = -2.26\n",
    "    mu_B = 5.7962605e-5 #eV/T\n",
    "    mu_n = 3.156739525e-8 #eV/T\n",
    "    H_z = np.zeros([2**(m+n), 2**(m+n)])\n",
    "    for j in range(m+n):\n",
    "        if j<m:\n",
    "            C = 0.5*gn*mu_n\n",
    "        else:\n",
    "            C = 0.5*ge*mu_B\n",
    "            \n",
    "        Dx = B[0]*C*np.kron(np.eye(2**j), sigmax())\n",
    "        Dy = B[1]*C*np.kron(np.eye(2**j), sigmay())\n",
    "        Dz = B[2]*C*np.kron(np.eye(2**j), sigmaz())\n",
    "        \n",
    "        H_z = H_z+np.kron(Dx, np.eye(2**(m+n-j-1)))+np.kron(Dy, np.eye(2**(m+n-j-1)))+np.kron(Dz, np.eye(2**(m+n-j-1)))\n",
    "    return H_z*e/h"
   ]
  },
  {
   "cell_type": "code",
   "execution_count": 45,
   "metadata": {
    "tags": []
   },
   "outputs": [],
   "source": [
    "# A is in MHz\n",
    "def hf_hamiltonian(m, n, A):\n",
    "    H_hf = np.zeros(2**(m+n))\n",
    "    for j in range(m):\n",
    "        Dx = np.kron(np.eye(2**j), sigmax())\n",
    "        Dy = np.kron(np.eye(2**j), sigmay())\n",
    "        Dz = np.kron(np.eye(2**j), sigmaz())\n",
    "        \n",
    "        for k in range(n):\n",
    "            Dx_temp = np.kron(Dx, np.eye(2**(m+k-j-1)));\n",
    "            Dx_temp = A[j][k]*np.kron(Dx_temp, sigmax());\n",
    "            Dy_temp = np.kron(Dy, np.eye(2**(m+k-j-1)));\n",
    "            Dy_temp = A[j][k]*np.kron(Dy_temp, sigmay());\n",
    "            Dz_temp = np.kron(Dz, np.eye(2**(m+k-j-1)));\n",
    "            Dz_temp = A[j][k]*np.kron(Dz_temp, sigmaz());\n",
    "            H_hf = (H_hf+np.kron(Dx_temp, np.eye(2**(n-k-1)))+\n",
    "                np.kron(Dy_temp, np.eye(2**(n-k-1)))+np.kron(Dz_temp, np.eye(2**(n-k-1))))\n",
    "\n",
    "    return H_hf*1e6/4 #Hz"
   ]
  },
  {
   "cell_type": "code",
   "execution_count": 46,
   "metadata": {
    "tags": []
   },
   "outputs": [],
   "source": [
    "## tau[0] is tunneling time for up electron\n",
    "## tau[1] is tunneling time for down electron\n",
    "\n",
    "def outOp(m, evecs, tau, emptyOpt):\n",
    "    l = (2**m)*3\n",
    "    L_out = []\n",
    "    for i in range(2**m):\n",
    "        for k in range(l):\n",
    "            initIndex = 2**(m+1)+i\n",
    "            finIndex = int(3*np.ceil((k+1)/3)-1)\n",
    "            L_temp = np.abs(evecs[initIndex][k, 0])*np.sqrt(1/tau[0])*Qobj([((fock(l, finIndex).dag()).full()).dot(val)[0] for val in evecs])*fock(l, initIndex).dag()\n",
    "        \n",
    "            if L_temp.norm() != 0:\n",
    "                L_out.append(L_temp)\n",
    "        \n",
    "            if emptyOpt == 1:\n",
    "                initIndex = i\n",
    "                L_temp = np.abs(evecs[initIndex][k, 0])*np.sqrt(1/tau[1])*Qobj([((fock(l, finIndex).dag()).full()).dot(val)[0] for val in evecs])*fock(l, initIndex).dag()\n",
    "            \n",
    "                if L_temp.norm() != 0:\n",
    "                    L_out.append(L_temp)\n",
    "    return L_out"
   ]
  }
 ],
 "metadata": {
  "kernelspec": {
   "display_name": "Python 3 (ipykernel)",
   "language": "python",
   "name": "python3"
  },
  "language_info": {
   "codemirror_mode": {
    "name": "ipython",
    "version": 3
   },
   "file_extension": ".py",
   "mimetype": "text/x-python",
   "name": "python",
   "nbconvert_exporter": "python",
   "pygments_lexer": "ipython3",
   "version": "3.11.5"
  }
 },
 "nbformat": 4,
 "nbformat_minor": 4
}
