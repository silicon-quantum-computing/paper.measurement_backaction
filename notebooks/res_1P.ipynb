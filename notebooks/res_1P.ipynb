{
 "cells": [
  {
   "cell_type": "code",
   "execution_count": 1,
   "metadata": {
    "jupyter": {
     "source_hidden": true
    },
    "tags": []
   },
   "outputs": [
    {
     "data": {
      "text/plain": [
       "<module 'spin_func' from 'spin_func.ipynb'>"
      ]
     },
     "execution_count": 1,
     "metadata": {},
     "output_type": "execute_result"
    }
   ],
   "source": [
    "from qutip import *\n",
    "import numpy as np\n",
    "import matplotlib.pyplot as plt\n",
    "from scipy.linalg import expm\n",
    "from IPython.display import Latex\n",
    "from datetime import datetime\n",
    "\n",
    "import nbimporter\n",
    "import spin_func as myfunc\n",
    "from importlib import reload\n",
    "reload(myfunc)"
   ]
  },
  {
   "cell_type": "code",
   "execution_count": 2,
   "metadata": {
    "tags": []
   },
   "outputs": [],
   "source": [
    "##########################\n",
    "### System Hamiltonian ###\n",
    "##########################\n",
    "\n",
    "m = 1; n = 1; B = [0, 0, 1.4]; A = [[100]];\n",
    "H_zn = Qobj(myfunc.z_hamiltonian(m, 0, B)) # Hz\n",
    "H_ze = Qobj(np.kron(np.eye(2**m), myfunc.z_hamiltonian(0, n, B)))\n",
    "H_hf = Qobj(myfunc.hf_hamiltonian(m, n, A))\n",
    "\n",
    "H_spin = Qobj(np.kron(H_zn, np.eye(2**n)))+H_ze+H_hf\n",
    "H_set = H_zn\n",
    "\n",
    "spinProj = Qobj(np.kron(np.eye(2**m), np.eye(2**n+1)[0:2**n]))\n",
    "setProj = Qobj(np.kron(np.eye(2**m), np.eye(2**n+1)[-1]))\n",
    "\n",
    "H = Qobj(spinProj.dag()*H_spin*spinProj+setProj.dag()*H_set*setProj)\n",
    "\n",
    "H_new = Qobj(np.diag(H.eigenstates()[0]))\n",
    "evecs = H.eigenstates()[1]\n",
    "l = len(np.diag(H.eigenstates()[0]))"
   ]
  },
  {
   "cell_type": "code",
   "execution_count": 3,
   "metadata": {
    "jupyter": {
     "source_hidden": true
    },
    "tags": []
   },
   "outputs": [],
   "source": [
    "############################\n",
    "### Projection Operators ###\n",
    "############################\n",
    "\n",
    "basisT = Qobj(np.concatenate(([np.array(evecs[i]) for i in range(len(evecs))]), axis = 1))\n",
    "\n",
    "state0 = Qobj(np.kron(fock_dm(2**m, 0), np.eye(2**n+1)))\n",
    "state1 = Qobj(np.kron(fock_dm(2**m, 1), np.eye(2**n+1)))\n",
    "\n",
    "electron_up = Qobj(np.kron(np.eye(2**(m)), fock_dm(2**n+1, 0)))\n",
    "electron_down = Qobj(np.kron(np.eye(2**(m)), fock_dm(2**n+1, 1)))\n",
    "electron_set = Qobj(np.kron(np.eye(2**(m)), fock_dm(2**n+1, 2)))\n",
    "\n",
    "### Expressed in Eigenbasis ###\n",
    "\n",
    "state0  = basisT.dag()*state0*basisT\n",
    "state1  = basisT.dag()*state1*basisT\n",
    "\n",
    "electron_up = basisT.dag()*electron_up*basisT\n",
    "electron_down = basisT.dag()*electron_down*basisT\n",
    "electron_set = basisT.dag()*electron_set*basisT"
   ]
  },
  {
   "cell_type": "code",
   "execution_count": 4,
   "metadata": {
    "jupyter": {
     "source_hidden": true
    },
    "tags": []
   },
   "outputs": [],
   "source": [
    "#######################\n",
    "### Tunneling Times ###\n",
    "#######################\n",
    "\n",
    "set2down = basisT.dag()*Qobj(np.kron(np.eye(2**m), fock(3, 1)*fock(3, 2).dag()))*basisT\n",
    "\n",
    "tau = 100e-6\n",
    "tauRes_up_out = 80e-6\n",
    "tauRes_down_out = 80e-6\n",
    "tauRes_down_in = 120e-6\n",
    "\n",
    "Lres_down_in = np.sqrt(1/tauRes_down_in)*set2down\n",
    "emptyOpt = 1\n",
    "tauRes = [tauRes_up_out, tauRes_down_out]\n",
    "Lres = myfunc.outOp(m, evecs, tauRes, emptyOpt)\n",
    "Lres.append(Lres_down_in)\n",
    "LiouRes = liouvillian(2*np.pi*H_new, Lres)"
   ]
  },
  {
   "cell_type": "code",
   "execution_count": 30,
   "metadata": {
    "tags": []
   },
   "outputs": [
    {
     "name": "stdout",
     "output_type": "stream",
     "text": [
      "Finished\n",
      "0.0016273159027464519\n",
      "999.9983670089822\n",
      "10000.0\n"
     ]
    }
   ],
   "source": [
    "######################\n",
    "### Time Evolution ###\n",
    "######################\n",
    "\n",
    "T = 1e-3\n",
    "dt = 1e-6\n",
    "N = int(T/dt)\n",
    "t = np.arange(0, T, dt)\n",
    "\n",
    "rho_init = fock_dm(6, 4)\n",
    "rho_vec = operator_to_vector(rho_init)\n",
    "rho = []\n",
    "\n",
    "expLiouRes = ((dt*LiouRes).expm())\n",
    "for i in range(N):\n",
    "    rho_vec = expLiouRes*rho_vec\n",
    "    rho.append(vector_to_operator(rho_vec))\n",
    "\n",
    "config0 = np.real(expect(state0, rho))\n",
    "config1 = np.real(expect(state1, rho))\n",
    "eSpin_up = np.real(expect(electron_up, rho))\n",
    "eSpin_down = np.real(expect(electron_down, rho))\n",
    "eSET = np.real(expect(electron_set, rho))\n",
    "\n",
    "print('Finished')\n",
    "print(config0[-1]/T)\n",
    "print(config1[-1]/T)\n",
    "print(1/tau)"
   ]
  },
  {
   "cell_type": "code",
   "execution_count": 31,
   "metadata": {
    "tags": []
   },
   "outputs": [],
   "source": [
    "t = [1000*t[i] for i in range(N)]"
   ]
  },
  {
   "cell_type": "code",
   "execution_count": 33,
   "metadata": {
    "tags": []
   },
   "outputs": [
    {
     "data": {
      "image/png": "[encoded data removed]",
      "text/plain": [
       "<Figure size 800x600 with 2 Axes>"
      ]
     },
     "metadata": {},
     "output_type": "display_data"
    }
   ],
   "source": [
    "fig = plt.figure()\n",
    "ax = fig.add_subplot(211)\n",
    "plt.plot(t, config0, linewidth = 4)\n",
    "plt.ylabel('P$_\\\\Uparrow$')\n",
    "ax.set_xticklabels([])\n",
    "plt.rcParams.update({'font.size': 28})\n",
    "plt.rcParams['font.family'] = 'DejaVu Sans'\n",
    "plt.rc('ytick', labelsize = 28)\n",
    "plt.rcParams['lines.linewidth'] = 2\n",
    "plt.ticklabel_format(style='sci', axis='y', scilimits=(0,0))\n",
    "plt.xlim([t[0], t[-1]*1.001])\n",
    "plt.ylim([0, 3e-6])\n",
    "plt.subplot(212)\n",
    "plt.plot(t, config1, linewidth = 4)\n",
    "plt.xlabel('time (ms)')\n",
    "plt.xlim([t[0], t[-1]*1.001])\n",
    "plt.ylim([1-3e-6, 1])\n",
    "plt.rcParams['lines.linewidth'] = 2\n",
    "plt.ticklabel_format(style='sci', axis='y', scilimits=(0,0))\n",
    "plt.ylabel('P$_\\\\Downarrow$')\n",
    "plt.rcParams[\"figure.figsize\"] = (8, 6)"
   ]
  }
 ],
 "metadata": {
  "kernelspec": {
   "display_name": "Python 3 (ipykernel)",
   "language": "python",
   "name": "python3"
  },
  "language_info": {
   "codemirror_mode": {
    "name": "ipython",
    "version": 3
   },
   "file_extension": ".py",
   "mimetype": "text/x-python",
   "name": "python",
   "nbconvert_exporter": "python",
   "pygments_lexer": "ipython3",
   "version": "3.11.5"
  }
 },
 "nbformat": 4,
 "nbformat_minor": 4
}
